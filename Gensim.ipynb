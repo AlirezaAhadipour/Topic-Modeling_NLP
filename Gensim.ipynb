{
  "nbformat": 4,
  "nbformat_minor": 0,
  "metadata": {
    "colab": {
      "provenance": [],
      "gpuType": "T4",
      "authorship_tag": "ABX9TyNkLd8Si9Iw7v4MmiizdBCe",
      "include_colab_link": true
    },
    "kernelspec": {
      "name": "python3",
      "display_name": "Python 3"
    },
    "language_info": {
      "name": "python"
    },
    "accelerator": "GPU",
    "gpuClass": "standard"
  },
  "cells": [
    {
      "cell_type": "markdown",
      "metadata": {
        "id": "view-in-github",
        "colab_type": "text"
      },
      "source": [
        "<a href=\"https://colab.research.google.com/github/AlirezaAhadipour/Topic-Modeling_NLP/blob/main/Gensim.ipynb\" target=\"_parent\"><img src=\"https://colab.research.google.com/assets/colab-badge.svg\" alt=\"Open In Colab\"/></a>"
      ]
    },
    {
      "cell_type": "code",
      "execution_count": 1,
      "metadata": {
        "id": "zToO_GG8yPl9"
      },
      "outputs": [],
      "source": [
        "import numpy as np\n",
        "from gensim import corpora, models, similarities\n",
        "from sklearn.datasets import fetch_20newsgroups as getdata\n",
        "from sklearn.model_selection import train_test_split\n",
        "import re"
      ]
    },
    {
      "cell_type": "code",
      "source": [
        "corpus = getdata(subset='train', remove=('headers', 'footers', 'quotes'))\n",
        "\n",
        "X = corpus.data\n",
        "y = corpus.target\n",
        "y_names = corpus.target_names"
      ],
      "metadata": {
        "id": "dw6rYhEIyeyv"
      },
      "execution_count": 2,
      "outputs": []
    },
    {
      "cell_type": "code",
      "source": [
        "len(X)"
      ],
      "metadata": {
        "colab": {
          "base_uri": "https://localhost:8080/"
        },
        "id": "ma7aQeDI1IvG",
        "outputId": "17808f90-b2b4-4fb0-c51d-93e7a356aa8c"
      },
      "execution_count": 3,
      "outputs": [
        {
          "output_type": "execute_result",
          "data": {
            "text/plain": [
              "11314"
            ]
          },
          "metadata": {},
          "execution_count": 3
        }
      ]
    },
    {
      "cell_type": "code",
      "source": [
        "print(X[0])"
      ],
      "metadata": {
        "colab": {
          "base_uri": "https://localhost:8080/"
        },
        "id": "vYg6Ijy5006Z",
        "outputId": "17eb438d-5601-48a6-a136-95fd32b338a7"
      },
      "execution_count": 4,
      "outputs": [
        {
          "output_type": "stream",
          "name": "stdout",
          "text": [
            "I was wondering if anyone out there could enlighten me on this car I saw\n",
            "the other day. It was a 2-door sports car, looked to be from the late 60s/\n",
            "early 70s. It was called a Bricklin. The doors were really small. In addition,\n",
            "the front bumper was separate from the rest of the body. This is \n",
            "all I know. If anyone can tellme a model name, engine specs, years\n",
            "of production, where this car is made, history, or whatever info you\n",
            "have on this funky looking car, please e-mail.\n"
          ]
        }
      ]
    },
    {
      "cell_type": "code",
      "source": [
        "y_names[y[0]]"
      ],
      "metadata": {
        "colab": {
          "base_uri": "https://localhost:8080/",
          "height": 35
        },
        "id": "iJrt41Up1jC3",
        "outputId": "516c0b3c-3020-45b2-e75d-8425f68261cb"
      },
      "execution_count": 5,
      "outputs": [
        {
          "output_type": "execute_result",
          "data": {
            "text/plain": [
              "'rec.autos'"
            ],
            "application/vnd.google.colaboratory.intrinsic+json": {
              "type": "string"
            }
          },
          "metadata": {},
          "execution_count": 5
        }
      ]
    },
    {
      "cell_type": "code",
      "source": [
        "y_names"
      ],
      "metadata": {
        "colab": {
          "base_uri": "https://localhost:8080/"
        },
        "id": "7-UCibiS0nQL",
        "outputId": "0c256dc6-d482-4262-b854-6c09bd8db116"
      },
      "execution_count": 6,
      "outputs": [
        {
          "output_type": "execute_result",
          "data": {
            "text/plain": [
              "['alt.atheism',\n",
              " 'comp.graphics',\n",
              " 'comp.os.ms-windows.misc',\n",
              " 'comp.sys.ibm.pc.hardware',\n",
              " 'comp.sys.mac.hardware',\n",
              " 'comp.windows.x',\n",
              " 'misc.forsale',\n",
              " 'rec.autos',\n",
              " 'rec.motorcycles',\n",
              " 'rec.sport.baseball',\n",
              " 'rec.sport.hockey',\n",
              " 'sci.crypt',\n",
              " 'sci.electronics',\n",
              " 'sci.med',\n",
              " 'sci.space',\n",
              " 'soc.religion.christian',\n",
              " 'talk.politics.guns',\n",
              " 'talk.politics.mideast',\n",
              " 'talk.politics.misc',\n",
              " 'talk.religion.misc']"
            ]
          },
          "metadata": {},
          "execution_count": 6
        }
      ]
    },
    {
      "cell_type": "code",
      "source": [
        "X_train, X_test, y_train, y_test = train_test_split(X, y, test_size=0.1, shuffle=True)"
      ],
      "metadata": {
        "id": "am3trmDUzzX4"
      },
      "execution_count": 7,
      "outputs": []
    },
    {
      "cell_type": "code",
      "source": [
        "# tokenization\n",
        "\n",
        "stoplist = ['a', 'the', 'of', 'and', 'for', 'to', 'in']\n",
        "texts = [[word for word in re.split('\\W+', doc.lower()) if word not in stoplist] for doc in X_train]"
      ],
      "metadata": {
        "id": "Sjan_Odp0Lak"
      },
      "execution_count": 8,
      "outputs": []
    },
    {
      "cell_type": "code",
      "source": [
        "# print(texts[0])"
      ],
      "metadata": {
        "id": "EA_iuR545pi7"
      },
      "execution_count": 9,
      "outputs": []
    },
    {
      "cell_type": "code",
      "source": [
        "frequency = {}\n",
        "for text in texts:\n",
        "  for token in text:\n",
        "    frequency[token] = frequency.get(token, 0) + 1\n",
        "\n",
        "threshold = 10\n",
        "processed_corpus = [[token for token in text if frequency[token] >= threshold] for text in texts]"
      ],
      "metadata": {
        "id": "l4JpbAS54AzP"
      },
      "execution_count": 10,
      "outputs": []
    },
    {
      "cell_type": "code",
      "source": [
        "token_dict = corpora.Dictionary(processed_corpus)\n",
        "print(token_dict)"
      ],
      "metadata": {
        "colab": {
          "base_uri": "https://localhost:8080/"
        },
        "id": "41h6G3Dj4HQP",
        "outputId": "671a7eca-ec3e-452c-e7a2-dd8d2dbbfab4"
      },
      "execution_count": 11,
      "outputs": [
        {
          "output_type": "stream",
          "name": "stdout",
          "text": [
            "Dictionary<13201 unique tokens: ['', '1', '12', '253', '33']...>\n"
          ]
        }
      ]
    },
    {
      "cell_type": "code",
      "source": [
        "# print(token_dict.token2id)"
      ],
      "metadata": {
        "id": "uEh1sdjE6cb3"
      },
      "execution_count": 12,
      "outputs": []
    },
    {
      "cell_type": "code",
      "source": [
        "# Bag of Words \n",
        "bow_corpus = [token_dict.doc2bow(text) for text in processed_corpus]"
      ],
      "metadata": {
        "id": "bCg_8XgC6uHu"
      },
      "execution_count": 13,
      "outputs": []
    },
    {
      "cell_type": "code",
      "source": [
        "print(bow_corpus[10])   #(id, count)"
      ],
      "metadata": {
        "colab": {
          "base_uri": "https://localhost:8080/"
        },
        "id": "6vyHYs7f-GHh",
        "outputId": "41280417-c7d7-4df3-88dc-fb1817d59d6d"
      },
      "execution_count": 14,
      "outputs": [
        {
          "output_type": "stream",
          "name": "stdout",
          "text": [
            "[(0, 2), (18, 1), (19, 1), (41, 1), (55, 1), (116, 1), (129, 1), (162, 1), (211, 1), (331, 2), (333, 1), (344, 1), (406, 1), (443, 1), (568, 1), (664, 1), (665, 1), (666, 1), (667, 2), (668, 1), (669, 1), (670, 1), (671, 1), (672, 1), (673, 1), (674, 1), (675, 1), (676, 1), (677, 1)]\n"
          ]
        }
      ]
    },
    {
      "cell_type": "code",
      "source": [
        "# Topic Modeling\n",
        "\n",
        "model = models.TfidfModel(bow_corpus)   # Term Frequency-Inverted Document Frequency\n",
        "# model = models.LsiModel(bow_corpus)   # Latent Semantic Indexing\n",
        "# model = models.LdaModel(bow_corpus)   # Latent Dirichlet Allocation"
      ],
      "metadata": {
        "id": "Q8lokIiy-JES"
      },
      "execution_count": 15,
      "outputs": []
    },
    {
      "cell_type": "code",
      "source": [
        "index = similarities.SparseMatrixSimilarity(model[bow_corpus], num_features=len(token_dict))"
      ],
      "metadata": {
        "id": "HShB_Hl6ALAs"
      },
      "execution_count": 16,
      "outputs": []
    },
    {
      "cell_type": "code",
      "source": [
        "# testing \n",
        "rndm = np.random.randint(len(X_test))\n",
        "query_document = re.split('\\W+', X_test[rndm].lower())\n",
        "query_bow = token_dict.doc2bow(query_document)\n",
        "similarities = index[model[query_bow]]\n",
        "doc_number = sorted(enumerate(similarities), key=lambda x: x[1], reverse=True)[0][0]\n",
        "\n",
        "print('Predicted: ', y_names[y_train[doc_number]])\n",
        "print('Ground truth: ', y_names[y_test[rndm]])"
      ],
      "metadata": {
        "colab": {
          "base_uri": "https://localhost:8080/"
        },
        "id": "noiESxVxBt7c",
        "outputId": "b6102e29-938c-41aa-b4db-122244e7b1c9"
      },
      "execution_count": 17,
      "outputs": [
        {
          "output_type": "stream",
          "name": "stdout",
          "text": [
            "Predicted:  misc.forsale\n",
            "Ground truth:  misc.forsale\n"
          ]
        }
      ]
    },
    {
      "cell_type": "code",
      "source": [],
      "metadata": {
        "id": "hpRKj6RtEFQ6"
      },
      "execution_count": 17,
      "outputs": []
    }
  ]
}